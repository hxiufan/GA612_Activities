{
  "nbformat": 4,
  "nbformat_minor": 0,
  "metadata": {
    "colab": {
      "provenance": [],
      "mount_file_id": "1-41um0-CA2luE-uUs7LiU4hB82xbdxOx",
      "authorship_tag": "ABX9TyN6WG+2K3VV66j9i6hHQycX",
      "include_colab_link": true
    },
    "kernelspec": {
      "name": "python3",
      "display_name": "Python 3"
    },
    "language_info": {
      "name": "python"
    }
  },
  "cells": [
    {
      "cell_type": "markdown",
      "metadata": {
        "id": "view-in-github",
        "colab_type": "text"
      },
      "source": [
        "<a href=\"https://colab.research.google.com/github/hxiufan/GA612_Activities/blob/main/DA612_A1_RipeDeli.ipynb\" target=\"_parent\"><img src=\"https://colab.research.google.com/assets/colab-badge.svg\" alt=\"Open In Colab\"/></a>"
      ]
    },
    {
      "cell_type": "code",
      "execution_count": null,
      "metadata": {
        "id": "vZbByGrRfTlI"
      },
      "outputs": [],
      "source": [
        "import requests\n",
        "from bs4 import BeautifulSoup\n",
        "import pandas as pd\n",
        "import numpy as np"
      ]
    },
    {
      "cell_type": "code",
      "source": [
        "url='https://www.ripedeli.co.nz/collections/instore-pickup-freezer-meals-bbq-packs-cookbooks-gift-cards'"
      ],
      "metadata": {
        "id": "E5pnHKlVfXVp"
      },
      "execution_count": null,
      "outputs": []
    },
    {
      "cell_type": "code",
      "source": [
        "request = requests.get(url)"
      ],
      "metadata": {
        "id": "-0PUDDnffdS8"
      },
      "execution_count": null,
      "outputs": []
    },
    {
      "cell_type": "code",
      "source": [
        "request"
      ],
      "metadata": {
        "colab": {
          "base_uri": "https://localhost:8080/"
        },
        "id": "hy1wfPQOfgVI",
        "outputId": "2ac46081-eb7e-43f8-feb3-c15110c58138"
      },
      "execution_count": null,
      "outputs": [
        {
          "output_type": "execute_result",
          "data": {
            "text/plain": [
              "<Response [200]>"
            ]
          },
          "metadata": {},
          "execution_count": 4
        }
      ]
    },
    {
      "cell_type": "code",
      "source": [
        "soup=BeautifulSoup(request.content,'html.parser')"
      ],
      "metadata": {
        "id": "CLTZKQSTfhZW"
      },
      "execution_count": null,
      "outputs": []
    },
    {
      "cell_type": "code",
      "source": [
        "table = soup.find('div', class_= 'products')"
      ],
      "metadata": {
        "id": "pj_d_r4DgdUy"
      },
      "execution_count": null,
      "outputs": []
    },
    {
      "cell_type": "code",
      "source": [
        "meals = table.find_all('div', class_=['three columns alpha thumbnail even','three columns thumbnail odd','three columns omega thumbnail odd swap','three columns  thumbnail even', 'three columns omega thumbnail odd','three columns omega thumbnail even'])"
      ],
      "metadata": {
        "id": "QYYzT0bHgsRQ"
      },
      "execution_count": null,
      "outputs": []
    },
    {
      "cell_type": "code",
      "source": [
        "all_meals = []\n"
      ],
      "metadata": {
        "id": "jpPN1UXQmmza"
      },
      "execution_count": null,
      "outputs": []
    },
    {
      "cell_type": "code",
      "source": [
        "for meal in meals:\n",
        "  title = meal.find('span', class_='title').text\n",
        "  price = meal.find('span', class_='price').text.replace('\\n','')\n",
        "  all_meals.append([title, price])"
      ],
      "metadata": {
        "id": "kzdwgw51hdun"
      },
      "execution_count": null,
      "outputs": []
    },
    {
      "cell_type": "code",
      "source": [
        "print(all_meals)"
      ],
      "metadata": {
        "colab": {
          "base_uri": "https://localhost:8080/"
        },
        "id": "AJwU56bqmxYI",
        "outputId": "f435e694-d6d1-4981-87ea-4f64c693bdd9"
      },
      "execution_count": null,
      "outputs": [
        {
          "output_type": "stream",
          "name": "stdout",
          "text": [
            "[['Fill The Freezer Care Packs', 'from$160.00'], ['Fill The Freezer With Soups', 'from$116.00'], ['Vegan Turmeric Coconut Curry + Tofu', 'from$34.00'], ['Vegan Mushroom & Quinoa Moussaka', 'from$34.00'], ['Courgette Spinach & Feta Lasagna', 'from$34.00'], ['Beef Daube', 'from$36.00'], ['Butter Chicken', 'from$36.00'], ['Chicken & Leek Pie', 'from$36.00'], ['Lamb Meatballs', 'from$34.00'], ['Shepherds Pie', 'from$34.00'], ['Smoked Fish Pie', 'from$36.00'], ['Gluten-free Salted Caramel Chocolate Brownie Dessert 🍒', '$32.00'], ['Sticky Date Pudding With Butterscotch Sauce 🍒', 'from$24.00'], ['Fruit Crumble', 'from$24.00']]\n"
          ]
        }
      ]
    },
    {
      "cell_type": "code",
      "source": [
        "data = pd.DataFrame(all_meals, columns=['Meal', 'Price'])"
      ],
      "metadata": {
        "id": "50T_eI0hmzu-"
      },
      "execution_count": null,
      "outputs": []
    },
    {
      "cell_type": "code",
      "source": [
        "data.to_csv(\"/content/drive/My Drive/DA612/RipeDeli_meals.csv\")"
      ],
      "metadata": {
        "id": "hHNzzpMEDchL"
      },
      "execution_count": null,
      "outputs": []
    }
  ]
}